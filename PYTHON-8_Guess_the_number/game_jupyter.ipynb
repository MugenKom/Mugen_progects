{
 "cells": [
  {
   "cell_type": "markdown",
   "metadata": {},
   "source": [
    "# Угадай число\n",
    "Нужно написать программу, которая угадывает число за минимальное число попыток.  \n",
    "\n",
    "**Условия соревнований**\n",
    "* Компьютер загадывает целое число от 1 до 100, и нам его нужно угадать. Под «угадать», подразумевается «написать программу, которая угадывает число».\n",
    "* Алгоритм учитывает информацию о том, больше ли случайное число или меньше нужного нам.\n",
    "* Необходимо добиться того, чтобы программа угадывала число меньше, чем за 20 попыток.\n",
    "\n",
    "**Метрика качества**     \n",
    "- Результаты оцениваются по среднему количеству попыток при 1000 повторений.\n",
    "\n",
    "\n",
    "Существует 3 подхода к решению данной задачи. Рассмотрим их последовательно."
   ]
  },
  {
   "cell_type": "markdown",
   "metadata": {},
   "source": [
    "## Подход 1. Случайное угадывание\n",
    "Простейший способ решения: научить программу случайным образом выбирать число до тех пор, пока оно не будет угадано."
   ]
  },
  {
   "cell_type": "code",
   "execution_count": 2,
   "metadata": {},
   "outputs": [
    {
     "name": "stdout",
     "output_type": "stream",
     "text": [
      "Вы угадали число! Это число = 98, за 196 попыток\n"
     ]
    }
   ],
   "source": [
    "\"\"\"Игра угадай число.\n",
    "Компьютер сам загадывает и сам угадывает число.\n",
    "Угадывает случайным образом.\n",
    "\"\"\"\n",
    "\n",
    "import numpy as np\n",
    "\n",
    "number = np.random.randint(1, 101) # Загадываем число\n",
    "\n",
    "# Количество попыток\n",
    "count = 0\n",
    "\n",
    "while True:\n",
    "    count += 1\n",
    "    predict_number = np.random.randint(1, 101)  # Предполагаемое число\n",
    "    \n",
    "    if number == predict_number:\n",
    "        print(f\"Вы угадали число! Это число = {number}, за {count} попыток\")\n",
    "        break  # Выход из цикла если угадали"
   ]
  },
  {
   "cell_type": "markdown",
   "metadata": {},
   "source": [
    "## Подход 2. Угадывание с коррекцией\n",
    "Сначала устанавливаем любое случайное число, а потом уменьшаем или увеличиваем его в зависимости от того, больше оно или меньше нужного. Назовём такой алгоритм: \"Горячо-Холодно\"."
   ]
  },
  {
   "cell_type": "code",
   "execution_count": 5,
   "metadata": {},
   "outputs": [
    {
     "name": "stdout",
     "output_type": "stream",
     "text": [
      "Вы угадали число! Это число = 59, за 10 попыток\n"
     ]
    }
   ],
   "source": [
    "\"\"\"Используется алгоритм \"Горячо-Холодно\":\n",
    "        Называем любое целое число predict_number от 1 до 100;\n",
    "        Если это число равно задуманному, то мы угадали!;\n",
    "        Если нет, то называем любое следующее число, в зависимости от того,\n",
    "        больше или меньше predict_number загаданоого числа\n",
    "        и продолжаем алгоритм. \"\"\"\n",
    "\n",
    "import numpy as np\n",
    "\n",
    "number = np.random.randint(1, 101) # Загадываем число\n",
    "\n",
    "# Количество попыток\n",
    "count = 0\n",
    "\n",
    "# Левая и правая границы поиска числа\n",
    "left_num, right_num = 1, 101\n",
    "\n",
    "while True:\n",
    "    count+=1\n",
    "    predict_number = np.random.randint(left_num, right_num)  # Предполагаемое число\n",
    "    \n",
    "    if predict_number > number:\n",
    "        right_num = predict_number\n",
    "\n",
    "    elif predict_number < number:\n",
    "        left_num = predict_number + 1\n",
    "    \n",
    "    else:\n",
    "        print(f\"Вы угадали число! Это число = {number}, за {count} попыток\")\n",
    "        break # Конец игры выход из цикла"
   ]
  },
  {
   "cell_type": "markdown",
   "metadata": {},
   "source": [
    "## Подход 3. Бинарный поиск\n",
    "Наиболее оптимальное решение задачи строится на бинарном поиске. Это простая алгоритмическая задача, смысл которой в том, чтобы каждый раз делить оставшийся диапазон на 2. Таким образом мы с каждой попыткой вдвое сокращаем область поиска, увеличивая шансы на успех."
   ]
  },
  {
   "cell_type": "code",
   "execution_count": 6,
   "metadata": {},
   "outputs": [
    {
     "name": "stdout",
     "output_type": "stream",
     "text": [
      "Вы угадали число! Это число = 4, за 6 попыток\n"
     ]
    }
   ],
   "source": [
    "\"\"\"Оптимальный алгоритм угадывания:\n",
    "    Положим left_num = 1 и rightt_num = 100.\n",
    "    Называем число, равное middle = (left_num + right_num) // 2 ;\n",
    "    Если это число равно задуманному, то мы угадали!;\n",
    "    Если это число меньше задуманного, то положим left_num = middle + 1\n",
    "    и продолжим алгоритм;\n",
    "    Если это число больше задуманного, то положим right_num = middle - 1\n",
    "    и продолжим алгоритм.\"\"\"\n",
    "\n",
    "import numpy as np\n",
    "\n",
    "number = np.random.randint(1, 101) # Загадываем число\n",
    "\n",
    "# Количество попыток\n",
    "count = 0\n",
    "\n",
    "# Левая и правая границы поиска числа\n",
    "left_num, right_num = 1, 100\n",
    "\n",
    "while True:\n",
    "    count+=1\n",
    "    middle = (left_num + right_num) // 2 \n",
    "    \n",
    "    if middle > number:\n",
    "        right_num = middle - 1\n",
    "\n",
    "    elif middle < number:\n",
    "        left_num = middle + 1\n",
    "    \n",
    "    else:\n",
    "        print(f\"Вы угадали число! Это число = {number}, за {count} попыток\")\n",
    "        break # Конец игры выход из цикла\n"
   ]
  },
  {
   "cell_type": "markdown",
   "metadata": {},
   "source": [
    "После того, как мы  разобрались с существующими подходами для решения нашей задачи, можно перейти к оценке эффктивности рассмотренных алгоритмов.\n",
    "\n",
    "## Функция оценки\n",
    "Напишем функцию, которая определяет среднее количество попыток угадывания числа за 1000 проходов того или иного алгоритма и выводит полученное значение на экран."
   ]
  },
  {
   "cell_type": "code",
   "execution_count": 8,
   "metadata": {},
   "outputs": [],
   "source": [
    "def score_game(function_predict) -> int:\n",
    "    \"\"\"Какое среднее количество попыток нужно алгоритму для угадывания числа \n",
    "    за 1000 проходов.\n",
    "    \n",
    "    Args:\n",
    "        function_predict ([type]): функция угадывания\n",
    "\n",
    "    Returns:\n",
    "        int: среднее количество попыток\n",
    "    \"\"\"\n",
    "    count_ls = []\n",
    "    np.random.seed(1)  # Фиксируем сид для воспроизводимости\n",
    "    random_array = np.random.randint(1, 101, size=(1000))  # Загадали список чисел\n",
    "\n",
    "    for number in random_array:\n",
    "        count_ls.append(function_predict(number))\n",
    "\n",
    "    score = int(np.mean(count_ls))\n",
    "    print(f\"Ваш алгоритм угадывает число в среднем за: {score} попыток\")\n",
    "    return score"
   ]
  },
  {
   "cell_type": "markdown",
   "metadata": {},
   "source": [
    "Аргументами данной функции будут выступать функции, реализующие вышеописанные алгоритмы."
   ]
  },
  {
   "cell_type": "code",
   "execution_count": null,
   "metadata": {},
   "outputs": [],
   "source": [
    "import numpy as np\n",
    "\n",
    "\n",
    "def random_predict(number: int = 1) -> int:\n",
    "    \"\"\"Рандомно угадываем число\n",
    "\n",
    "    Args:\n",
    "        number (int, optional): Загаданное число. Defaults to 1.\n",
    "\n",
    "    Returns:\n",
    "        int: Число попыток\n",
    "    \"\"\"\n",
    "    count = 0\n",
    "\n",
    "    while True:\n",
    "        count += 1\n",
    "        predict_number = np.random.randint(1, 101)  # Предполагаемое число\n",
    "        if number == predict_number:\n",
    "            break  # Выход из цикла если угадали\n",
    "    return count\n",
    "\n",
    "\n",
    "def hot_cold_predict(number: int = 1) -> int:\n",
    "    \"\"\" Угадываем число при помощи алгоритма Угадывания с коррекцией:\n",
    "    \n",
    "    Алгоритм угадывания:\n",
    "        Называем любое целое число predict_number от 1 до 100;\n",
    "        Если это число равно задуманному, то мы угадали!;\n",
    "        Если нет, то называем любое следующее число, в зависимости от того,\n",
    "        больше или меньше predict_number загаданоого числа\n",
    "        и продолжаем алгоритм.  \n",
    "    Функция принимает загаданное число и возвращает число попыток.\n",
    "    \n",
    "    Args:\n",
    "        number (int, optional): Загаданное число. Defaults to 1.\n",
    "\n",
    "    Returns:\n",
    "        int: Число попыток\n",
    "    \"\"\"\n",
    "    # Количество попыток\n",
    "    count = 0\n",
    "\n",
    "    # Левая и правая границы поиска числа\n",
    "    left_num, right_num = 1, 101\n",
    "\n",
    "    while True:\n",
    "        count+=1\n",
    "        predict_number = np.random.randint(left_num, right_num)  # Предполагаемое число\n",
    "    \n",
    "        if predict_number > number:\n",
    "            right_num = predict_number\n",
    "\n",
    "        elif predict_number < number:\n",
    "            left_num = predict_number + 1\n",
    "    \n",
    "        else:\n",
    "           break # Конец игры выход из цикла\n",
    "    return count\n",
    "\n",
    "\n",
    "def optimal_predict(number: int = 1) -> int:\n",
    "    \"\"\" Угадываем число при помощи алгоритма бинарного поиска:\n",
    "    \n",
    "    Алгоритм угадывания:\n",
    "        Положим left_num = 1 и rightt_num = 100.\n",
    "        Называем число, равное middle = (left_num + right_num) // 2 ;\n",
    "        Если это число равно задуманному, то мы угадали!;\n",
    "        Если это число меньше задуманного, то положим left_num = middle + 1\n",
    "        и продолжим алгоритм;\n",
    "        Если это число больше задуманного, то положим right_num = middle - 1\n",
    "        и продолжим алгоритм.\n",
    "    Функция принимает загаданное число и возвращает число попыток\n",
    "    \n",
    "    Args:\n",
    "        number (int, optional): Загаданное число. Defaults to 1.\n",
    "\n",
    "    Returns:\n",
    "        int: Число попыток\n",
    "    \"\"\"\n",
    "    # Количество попыток\n",
    "    count = 0\n",
    "\n",
    "    # Левая и правая границы поиска числа\n",
    "    left_num, right_num = 1, 100\n",
    "\n",
    "    while True:\n",
    "        count+=1\n",
    "        middle = (left_num + right_num) // 2 \n",
    "    \n",
    "        if middle > number:\n",
    "            right_num = middle - 1\n",
    "\n",
    "        elif middle < number:\n",
    "            left_num = middle + 1\n",
    "    \n",
    "        else:\n",
    "           break # Конец игры выход из цикла\n",
    "    return count"
   ]
  },
  {
   "cell_type": "markdown",
   "metadata": {},
   "source": [
    "## Оценка работы алгоритмов\n",
    "Определим, какой из алгоритмов работает лучше, по очереди применив вышеописанную функцию score_game() к каждому из них."
   ]
  },
  {
   "cell_type": "code",
   "execution_count": 34,
   "metadata": {},
   "outputs": [],
   "source": [
    "from evaluation_game_algorithms import *"
   ]
  },
  {
   "cell_type": "markdown",
   "metadata": {},
   "source": [
    "### 1. Случайное угадывание:"
   ]
  },
  {
   "cell_type": "code",
   "execution_count": 38,
   "metadata": {},
   "outputs": [
    {
     "name": "stdout",
     "output_type": "stream",
     "text": [
      "Ваш алгоритм угадывает число в среднем за: 101 попыток\n"
     ]
    },
    {
     "data": {
      "text/plain": [
       "101"
      ]
     },
     "execution_count": 38,
     "metadata": {},
     "output_type": "execute_result"
    }
   ],
   "source": [
    "score_game(random_predict)"
   ]
  },
  {
   "cell_type": "markdown",
   "metadata": {},
   "source": [
    "### 2. Угадывание с коррекцией:"
   ]
  },
  {
   "cell_type": "code",
   "execution_count": 36,
   "metadata": {},
   "outputs": [
    {
     "name": "stdout",
     "output_type": "stream",
     "text": [
      "Ваш алгоритм угадывает число в среднем за: 7 попыток\n"
     ]
    },
    {
     "data": {
      "text/plain": [
       "7"
      ]
     },
     "execution_count": 36,
     "metadata": {},
     "output_type": "execute_result"
    }
   ],
   "source": [
    "score_game(hot_cold_predict)"
   ]
  },
  {
   "cell_type": "markdown",
   "metadata": {},
   "source": [
    "### 3. Бинарный поиск:"
   ]
  },
  {
   "cell_type": "code",
   "execution_count": 32,
   "metadata": {},
   "outputs": [
    {
     "name": "stdout",
     "output_type": "stream",
     "text": [
      "Ваш алгоритм угадывает число в среднем за: 5 попыток\n"
     ]
    },
    {
     "data": {
      "text/plain": [
       "5"
      ]
     },
     "execution_count": 32,
     "metadata": {},
     "output_type": "execute_result"
    }
   ],
   "source": [
    "score_game(optimal_predict)"
   ]
  },
  {
   "cell_type": "markdown",
   "metadata": {},
   "source": [
    "Как видно из полученных результатов, наиболее эффективным  является алгоритм Бинарного Поиска, описанный в программе [game_optimal.py](https://github.com/MugenKom/Mugen_progects/blob/main/PYTHON-8_Guess_the_number/game_optimal.py).  \n",
    "Среднее количество угадываний данного алгоритма равняется 5, что в 1.4 раза лучше, чем у алгоритма Угадывания с коррекцией (Горячо-Хололдно) и в 20 раз лучше рандомного угадывания."
   ]
  }
 ],
 "metadata": {
  "interpreter": {
   "hash": "916dbcbb3f70747c44a77c7bcd40155683ae19c65e1c03b4aa3499c5328201f1"
  },
  "kernelspec": {
   "display_name": "Python 3.8.10 64-bit",
   "language": "python",
   "name": "python3"
  },
  "language_info": {
   "codemirror_mode": {
    "name": "ipython",
    "version": 3
   },
   "file_extension": ".py",
   "mimetype": "text/x-python",
   "name": "python",
   "nbconvert_exporter": "python",
   "pygments_lexer": "ipython3",
   "version": "3.8.10"
  },
  "orig_nbformat": 4
 },
 "nbformat": 4,
 "nbformat_minor": 2
}
